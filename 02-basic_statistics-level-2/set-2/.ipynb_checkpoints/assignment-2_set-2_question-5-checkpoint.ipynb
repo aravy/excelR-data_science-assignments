{
 "cells": [
  {
   "cell_type": "markdown",
   "metadata": {},
   "source": [
    "# Assignment 2\n",
    "## Basic Statistics Level - 2\n",
    "### Question Number 5"
   ]
  },
  {
   "cell_type": "markdown",
   "metadata": {},
   "source": [
    "5. Consider a company that has two different divisions. The annual profits from the two divisions are independent and have distributions Profit1 ~ N(5, 3^2) and Profit2 ~ N(7, 4^2) respectively. Both the profits are in Million Dollars. Answer the following questions about the total profit of the company in Rupees. Assume that 1 Dollar = Rs. 45\n",
    "    - A. Specify a Rupee range (centered on the mean) such that it contains 95% probability for the annual profit of the company.\n",
    "    - B. Specify the 5th percentile of profit (in Rupees) for the company\n",
    "    - C. Which of the two divisions has a larger probability of making a loss in a given year?\n"
   ]
  },
  {
   "cell_type": "code",
   "execution_count": 1,
   "metadata": {},
   "outputs": [],
   "source": [
    "import numpy as np\n",
    "import scipy.stats as ss"
   ]
  },
  {
   "cell_type": "markdown",
   "metadata": {},
   "source": [
    "### A)"
   ]
  },
  {
   "cell_type": "code",
   "execution_count": 2,
   "metadata": {},
   "outputs": [],
   "source": [
    "# The total profit can be estimated by adding the two given profits\n",
    "mean = (5+7)*45\n",
    "std = np.sqrt(3**2+4**2)*45"
   ]
  },
  {
   "cell_type": "code",
   "execution_count": 3,
   "metadata": {},
   "outputs": [
    {
     "name": "stdout",
     "output_type": "stream",
     "text": [
      "The total profit is in the range (99.00810347848784, 980.9918965215122) Million Rupees\n"
     ]
    }
   ],
   "source": [
    "total_profit = ss.norm.interval(0.95,mean,std)\n",
    "print(\"The total profit is in the range\",total_profit,\"Million Rupees\")"
   ]
  },
  {
   "cell_type": "markdown",
   "metadata": {},
   "source": [
    "### B)"
   ]
  },
  {
   "cell_type": "code",
   "execution_count": 4,
   "metadata": {},
   "outputs": [
    {
     "name": "stdout",
     "output_type": "stream",
     "text": [
      "The 5th Percentile of Profit is 143.10729313063905 Million Rupees\n"
     ]
    }
   ],
   "source": [
    "# Finding the 5th Percentile\n",
    "print(\"The 5th Percentile of Profit is\",ss.scoreatpercentile(total_profit,5),\"Million Rupees\")"
   ]
  },
  {
   "cell_type": "markdown",
   "metadata": {},
   "source": [
    "### C)"
   ]
  },
  {
   "cell_type": "code",
   "execution_count": 5,
   "metadata": {},
   "outputs": [
    {
     "name": "stdout",
     "output_type": "stream",
     "text": [
      "The probability of Division 1 making a loss is 0.0477903522728147  and\n",
      "The probability of Division 2 making a loss is 0.040059156863817086\n"
     ]
    }
   ],
   "source": [
    "#The probability of making a loss for both divisions\n",
    "print('The probability of Division 1 making a loss is',ss.norm.cdf(0,5,3),\" and\") \n",
    "print('The probability of Division 2 making a loss is',ss.norm.cdf(0,7,4))"
   ]
  },
  {
   "cell_type": "markdown",
   "metadata": {},
   "source": [
    "   - Since the probability that Profit < 0 is higher for Division 1, it has the larger chances of making a loss."
   ]
  }
 ],
 "metadata": {
  "kernelspec": {
   "display_name": "Python 3",
   "language": "python",
   "name": "python3"
  },
  "language_info": {
   "codemirror_mode": {
    "name": "ipython",
    "version": 3
   },
   "file_extension": ".py",
   "mimetype": "text/x-python",
   "name": "python",
   "nbconvert_exporter": "python",
   "pygments_lexer": "ipython3",
   "version": "3.8.5"
  }
 },
 "nbformat": 4,
 "nbformat_minor": 4
}
