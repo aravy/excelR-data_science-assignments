{
 "cells": [
  {
   "cell_type": "markdown",
   "metadata": {},
   "source": [
    "# Linear Regression with SciKit-Learn"
   ]
  },
  {
   "cell_type": "markdown",
   "metadata": {},
   "source": [
    "This method is added in addition to the statsmodel package that is used in the other file. So, the plotting and correlation matrix that were analyzed thoroughly"
   ]
  },
  {
   "cell_type": "code",
   "execution_count": 1,
   "metadata": {},
   "outputs": [],
   "source": [
    "import numpy as np\n",
    "import pandas as pd\n",
    "import matplotlib.pyplot as plt\n",
    "import seaborn as sns"
   ]
  },
  {
   "cell_type": "code",
   "execution_count": 2,
   "metadata": {
    "scrolled": true
   },
   "outputs": [
    {
     "data": {
      "text/html": [
       "<div>\n",
       "<style scoped>\n",
       "    .dataframe tbody tr th:only-of-type {\n",
       "        vertical-align: middle;\n",
       "    }\n",
       "\n",
       "    .dataframe tbody tr th {\n",
       "        vertical-align: top;\n",
       "    }\n",
       "\n",
       "    .dataframe thead th {\n",
       "        text-align: right;\n",
       "    }\n",
       "</style>\n",
       "<table border=\"1\" class=\"dataframe\">\n",
       "  <thead>\n",
       "    <tr style=\"text-align: right;\">\n",
       "      <th></th>\n",
       "      <th>price</th>\n",
       "      <th>age</th>\n",
       "      <th>km</th>\n",
       "      <th>hp</th>\n",
       "      <th>cc</th>\n",
       "      <th>doors</th>\n",
       "      <th>gears</th>\n",
       "      <th>qtrly_tax</th>\n",
       "      <th>weight</th>\n",
       "    </tr>\n",
       "  </thead>\n",
       "  <tbody>\n",
       "    <tr>\n",
       "      <th>0</th>\n",
       "      <td>13500</td>\n",
       "      <td>23</td>\n",
       "      <td>46986</td>\n",
       "      <td>90</td>\n",
       "      <td>2000</td>\n",
       "      <td>3</td>\n",
       "      <td>5</td>\n",
       "      <td>210</td>\n",
       "      <td>1165</td>\n",
       "    </tr>\n",
       "    <tr>\n",
       "      <th>1</th>\n",
       "      <td>13750</td>\n",
       "      <td>23</td>\n",
       "      <td>72937</td>\n",
       "      <td>90</td>\n",
       "      <td>2000</td>\n",
       "      <td>3</td>\n",
       "      <td>5</td>\n",
       "      <td>210</td>\n",
       "      <td>1165</td>\n",
       "    </tr>\n",
       "    <tr>\n",
       "      <th>2</th>\n",
       "      <td>13950</td>\n",
       "      <td>24</td>\n",
       "      <td>41711</td>\n",
       "      <td>90</td>\n",
       "      <td>2000</td>\n",
       "      <td>3</td>\n",
       "      <td>5</td>\n",
       "      <td>210</td>\n",
       "      <td>1165</td>\n",
       "    </tr>\n",
       "    <tr>\n",
       "      <th>3</th>\n",
       "      <td>14950</td>\n",
       "      <td>26</td>\n",
       "      <td>48000</td>\n",
       "      <td>90</td>\n",
       "      <td>2000</td>\n",
       "      <td>3</td>\n",
       "      <td>5</td>\n",
       "      <td>210</td>\n",
       "      <td>1165</td>\n",
       "    </tr>\n",
       "    <tr>\n",
       "      <th>4</th>\n",
       "      <td>13750</td>\n",
       "      <td>30</td>\n",
       "      <td>38500</td>\n",
       "      <td>90</td>\n",
       "      <td>2000</td>\n",
       "      <td>3</td>\n",
       "      <td>5</td>\n",
       "      <td>210</td>\n",
       "      <td>1170</td>\n",
       "    </tr>\n",
       "    <tr>\n",
       "      <th>...</th>\n",
       "      <td>...</td>\n",
       "      <td>...</td>\n",
       "      <td>...</td>\n",
       "      <td>...</td>\n",
       "      <td>...</td>\n",
       "      <td>...</td>\n",
       "      <td>...</td>\n",
       "      <td>...</td>\n",
       "      <td>...</td>\n",
       "    </tr>\n",
       "    <tr>\n",
       "      <th>1431</th>\n",
       "      <td>7500</td>\n",
       "      <td>69</td>\n",
       "      <td>20544</td>\n",
       "      <td>86</td>\n",
       "      <td>1300</td>\n",
       "      <td>3</td>\n",
       "      <td>5</td>\n",
       "      <td>69</td>\n",
       "      <td>1025</td>\n",
       "    </tr>\n",
       "    <tr>\n",
       "      <th>1432</th>\n",
       "      <td>10845</td>\n",
       "      <td>72</td>\n",
       "      <td>19000</td>\n",
       "      <td>86</td>\n",
       "      <td>1300</td>\n",
       "      <td>3</td>\n",
       "      <td>5</td>\n",
       "      <td>69</td>\n",
       "      <td>1015</td>\n",
       "    </tr>\n",
       "    <tr>\n",
       "      <th>1433</th>\n",
       "      <td>8500</td>\n",
       "      <td>71</td>\n",
       "      <td>17016</td>\n",
       "      <td>86</td>\n",
       "      <td>1300</td>\n",
       "      <td>3</td>\n",
       "      <td>5</td>\n",
       "      <td>69</td>\n",
       "      <td>1015</td>\n",
       "    </tr>\n",
       "    <tr>\n",
       "      <th>1434</th>\n",
       "      <td>7250</td>\n",
       "      <td>70</td>\n",
       "      <td>16916</td>\n",
       "      <td>86</td>\n",
       "      <td>1300</td>\n",
       "      <td>3</td>\n",
       "      <td>5</td>\n",
       "      <td>69</td>\n",
       "      <td>1015</td>\n",
       "    </tr>\n",
       "    <tr>\n",
       "      <th>1435</th>\n",
       "      <td>6950</td>\n",
       "      <td>76</td>\n",
       "      <td>1</td>\n",
       "      <td>110</td>\n",
       "      <td>1600</td>\n",
       "      <td>5</td>\n",
       "      <td>5</td>\n",
       "      <td>19</td>\n",
       "      <td>1114</td>\n",
       "    </tr>\n",
       "  </tbody>\n",
       "</table>\n",
       "<p>1436 rows × 9 columns</p>\n",
       "</div>"
      ],
      "text/plain": [
       "      price  age     km   hp    cc  doors  gears  qtrly_tax  weight\n",
       "0     13500   23  46986   90  2000      3      5        210    1165\n",
       "1     13750   23  72937   90  2000      3      5        210    1165\n",
       "2     13950   24  41711   90  2000      3      5        210    1165\n",
       "3     14950   26  48000   90  2000      3      5        210    1165\n",
       "4     13750   30  38500   90  2000      3      5        210    1170\n",
       "...     ...  ...    ...  ...   ...    ...    ...        ...     ...\n",
       "1431   7500   69  20544   86  1300      3      5         69    1025\n",
       "1432  10845   72  19000   86  1300      3      5         69    1015\n",
       "1433   8500   71  17016   86  1300      3      5         69    1015\n",
       "1434   7250   70  16916   86  1300      3      5         69    1015\n",
       "1435   6950   76      1  110  1600      5      5         19    1114\n",
       "\n",
       "[1436 rows x 9 columns]"
      ]
     },
     "execution_count": 2,
     "metadata": {},
     "output_type": "execute_result"
    }
   ],
   "source": [
    "df_raw = pd.read_csv('ToyotaCorolla.csv', encoding='latin1')\n",
    "df=df_raw.copy()\n",
    "df = df[[\"Price\",\"Age_08_04\",\"KM\",\"HP\",\"cc\",\"Doors\",\"Gears\",\"Quarterly_Tax\",\"Weight\"]]\n",
    "df.rename(columns={'Price':'price','Age_08_04':'age', 'KM':'km', 'HP':'hp','Doors':'doors','Gears':'gears','Quarterly_Tax':'qtrly_tax','Weight':'weight'}, inplace = True)\n",
    "df"
   ]
  },
  {
   "cell_type": "code",
   "execution_count": 3,
   "metadata": {},
   "outputs": [],
   "source": [
    "# Using our knowledge from the previous method.\n",
    "df = df.drop(df.index[[221,960]],axis=0).reset_index()"
   ]
  },
  {
   "cell_type": "code",
   "execution_count": 4,
   "metadata": {},
   "outputs": [],
   "source": [
    "X = df.drop('price',axis=1)\n",
    "y = df['price']"
   ]
  },
  {
   "cell_type": "markdown",
   "metadata": {},
   "source": [
    "## Train | Test Split"
   ]
  },
  {
   "cell_type": "code",
   "execution_count": 5,
   "metadata": {},
   "outputs": [],
   "source": [
    "from sklearn.model_selection import train_test_split"
   ]
  },
  {
   "cell_type": "code",
   "execution_count": 6,
   "metadata": {},
   "outputs": [],
   "source": [
    "X_train, X_test, y_train, y_test = train_test_split(X, y, test_size=0.25)"
   ]
  },
  {
   "cell_type": "code",
   "execution_count": 7,
   "metadata": {},
   "outputs": [
    {
     "data": {
      "text/html": [
       "<div>\n",
       "<style scoped>\n",
       "    .dataframe tbody tr th:only-of-type {\n",
       "        vertical-align: middle;\n",
       "    }\n",
       "\n",
       "    .dataframe tbody tr th {\n",
       "        vertical-align: top;\n",
       "    }\n",
       "\n",
       "    .dataframe thead th {\n",
       "        text-align: right;\n",
       "    }\n",
       "</style>\n",
       "<table border=\"1\" class=\"dataframe\">\n",
       "  <thead>\n",
       "    <tr style=\"text-align: right;\">\n",
       "      <th></th>\n",
       "      <th>index</th>\n",
       "      <th>age</th>\n",
       "      <th>km</th>\n",
       "      <th>hp</th>\n",
       "      <th>cc</th>\n",
       "      <th>doors</th>\n",
       "      <th>gears</th>\n",
       "      <th>qtrly_tax</th>\n",
       "      <th>weight</th>\n",
       "    </tr>\n",
       "  </thead>\n",
       "  <tbody>\n",
       "    <tr>\n",
       "      <th>540</th>\n",
       "      <td>541</td>\n",
       "      <td>54</td>\n",
       "      <td>46230</td>\n",
       "      <td>110</td>\n",
       "      <td>1600</td>\n",
       "      <td>3</td>\n",
       "      <td>5</td>\n",
       "      <td>85</td>\n",
       "      <td>1055</td>\n",
       "    </tr>\n",
       "    <tr>\n",
       "      <th>268</th>\n",
       "      <td>269</td>\n",
       "      <td>39</td>\n",
       "      <td>48945</td>\n",
       "      <td>110</td>\n",
       "      <td>1600</td>\n",
       "      <td>3</td>\n",
       "      <td>5</td>\n",
       "      <td>69</td>\n",
       "      <td>1040</td>\n",
       "    </tr>\n",
       "    <tr>\n",
       "      <th>264</th>\n",
       "      <td>265</td>\n",
       "      <td>38</td>\n",
       "      <td>49500</td>\n",
       "      <td>110</td>\n",
       "      <td>1600</td>\n",
       "      <td>5</td>\n",
       "      <td>5</td>\n",
       "      <td>85</td>\n",
       "      <td>1075</td>\n",
       "    </tr>\n",
       "    <tr>\n",
       "      <th>890</th>\n",
       "      <td>891</td>\n",
       "      <td>68</td>\n",
       "      <td>61100</td>\n",
       "      <td>110</td>\n",
       "      <td>1600</td>\n",
       "      <td>5</td>\n",
       "      <td>5</td>\n",
       "      <td>85</td>\n",
       "      <td>1075</td>\n",
       "    </tr>\n",
       "    <tr>\n",
       "      <th>298</th>\n",
       "      <td>299</td>\n",
       "      <td>39</td>\n",
       "      <td>40000</td>\n",
       "      <td>110</td>\n",
       "      <td>1600</td>\n",
       "      <td>3</td>\n",
       "      <td>5</td>\n",
       "      <td>85</td>\n",
       "      <td>1055</td>\n",
       "    </tr>\n",
       "    <tr>\n",
       "      <th>...</th>\n",
       "      <td>...</td>\n",
       "      <td>...</td>\n",
       "      <td>...</td>\n",
       "      <td>...</td>\n",
       "      <td>...</td>\n",
       "      <td>...</td>\n",
       "      <td>...</td>\n",
       "      <td>...</td>\n",
       "      <td>...</td>\n",
       "    </tr>\n",
       "    <tr>\n",
       "      <th>1353</th>\n",
       "      <td>1355</td>\n",
       "      <td>69</td>\n",
       "      <td>60050</td>\n",
       "      <td>110</td>\n",
       "      <td>1600</td>\n",
       "      <td>3</td>\n",
       "      <td>5</td>\n",
       "      <td>69</td>\n",
       "      <td>1050</td>\n",
       "    </tr>\n",
       "    <tr>\n",
       "      <th>34</th>\n",
       "      <td>34</td>\n",
       "      <td>22</td>\n",
       "      <td>41000</td>\n",
       "      <td>97</td>\n",
       "      <td>1400</td>\n",
       "      <td>3</td>\n",
       "      <td>5</td>\n",
       "      <td>85</td>\n",
       "      <td>1100</td>\n",
       "    </tr>\n",
       "    <tr>\n",
       "      <th>746</th>\n",
       "      <td>747</td>\n",
       "      <td>65</td>\n",
       "      <td>81192</td>\n",
       "      <td>110</td>\n",
       "      <td>1600</td>\n",
       "      <td>3</td>\n",
       "      <td>6</td>\n",
       "      <td>85</td>\n",
       "      <td>1065</td>\n",
       "    </tr>\n",
       "    <tr>\n",
       "      <th>882</th>\n",
       "      <td>883</td>\n",
       "      <td>65</td>\n",
       "      <td>61384</td>\n",
       "      <td>110</td>\n",
       "      <td>1600</td>\n",
       "      <td>3</td>\n",
       "      <td>5</td>\n",
       "      <td>69</td>\n",
       "      <td>1050</td>\n",
       "    </tr>\n",
       "    <tr>\n",
       "      <th>1398</th>\n",
       "      <td>1400</td>\n",
       "      <td>70</td>\n",
       "      <td>47955</td>\n",
       "      <td>110</td>\n",
       "      <td>1600</td>\n",
       "      <td>5</td>\n",
       "      <td>5</td>\n",
       "      <td>85</td>\n",
       "      <td>1070</td>\n",
       "    </tr>\n",
       "  </tbody>\n",
       "</table>\n",
       "<p>1075 rows × 9 columns</p>\n",
       "</div>"
      ],
      "text/plain": [
       "      index  age     km   hp    cc  doors  gears  qtrly_tax  weight\n",
       "540     541   54  46230  110  1600      3      5         85    1055\n",
       "268     269   39  48945  110  1600      3      5         69    1040\n",
       "264     265   38  49500  110  1600      5      5         85    1075\n",
       "890     891   68  61100  110  1600      5      5         85    1075\n",
       "298     299   39  40000  110  1600      3      5         85    1055\n",
       "...     ...  ...    ...  ...   ...    ...    ...        ...     ...\n",
       "1353   1355   69  60050  110  1600      3      5         69    1050\n",
       "34       34   22  41000   97  1400      3      5         85    1100\n",
       "746     747   65  81192  110  1600      3      6         85    1065\n",
       "882     883   65  61384  110  1600      3      5         69    1050\n",
       "1398   1400   70  47955  110  1600      5      5         85    1070\n",
       "\n",
       "[1075 rows x 9 columns]"
      ]
     },
     "execution_count": 7,
     "metadata": {},
     "output_type": "execute_result"
    }
   ],
   "source": [
    "X_train"
   ]
  },
  {
   "cell_type": "code",
   "execution_count": 8,
   "metadata": {},
   "outputs": [
    {
     "data": {
      "text/plain": [
       "540     12450\n",
       "268     10950\n",
       "264     11950\n",
       "890     11500\n",
       "298     13750\n",
       "        ...  \n",
       "1353     6750\n",
       "34      15500\n",
       "746     10950\n",
       "882      8250\n",
       "1398     7450\n",
       "Name: price, Length: 1075, dtype: int64"
      ]
     },
     "execution_count": 8,
     "metadata": {},
     "output_type": "execute_result"
    }
   ],
   "source": [
    "y_train"
   ]
  },
  {
   "cell_type": "code",
   "execution_count": 9,
   "metadata": {},
   "outputs": [
    {
     "data": {
      "text/html": [
       "<div>\n",
       "<style scoped>\n",
       "    .dataframe tbody tr th:only-of-type {\n",
       "        vertical-align: middle;\n",
       "    }\n",
       "\n",
       "    .dataframe tbody tr th {\n",
       "        vertical-align: top;\n",
       "    }\n",
       "\n",
       "    .dataframe thead th {\n",
       "        text-align: right;\n",
       "    }\n",
       "</style>\n",
       "<table border=\"1\" class=\"dataframe\">\n",
       "  <thead>\n",
       "    <tr style=\"text-align: right;\">\n",
       "      <th></th>\n",
       "      <th>index</th>\n",
       "      <th>age</th>\n",
       "      <th>km</th>\n",
       "      <th>hp</th>\n",
       "      <th>cc</th>\n",
       "      <th>doors</th>\n",
       "      <th>gears</th>\n",
       "      <th>qtrly_tax</th>\n",
       "      <th>weight</th>\n",
       "    </tr>\n",
       "  </thead>\n",
       "  <tbody>\n",
       "    <tr>\n",
       "      <th>573</th>\n",
       "      <td>574</td>\n",
       "      <td>49</td>\n",
       "      <td>34890</td>\n",
       "      <td>97</td>\n",
       "      <td>1400</td>\n",
       "      <td>3</td>\n",
       "      <td>5</td>\n",
       "      <td>69</td>\n",
       "      <td>1025</td>\n",
       "    </tr>\n",
       "    <tr>\n",
       "      <th>1377</th>\n",
       "      <td>1379</td>\n",
       "      <td>74</td>\n",
       "      <td>56132</td>\n",
       "      <td>110</td>\n",
       "      <td>1600</td>\n",
       "      <td>4</td>\n",
       "      <td>5</td>\n",
       "      <td>69</td>\n",
       "      <td>1035</td>\n",
       "    </tr>\n",
       "    <tr>\n",
       "      <th>322</th>\n",
       "      <td>323</td>\n",
       "      <td>44</td>\n",
       "      <td>36066</td>\n",
       "      <td>110</td>\n",
       "      <td>1600</td>\n",
       "      <td>3</td>\n",
       "      <td>5</td>\n",
       "      <td>69</td>\n",
       "      <td>1040</td>\n",
       "    </tr>\n",
       "    <tr>\n",
       "      <th>791</th>\n",
       "      <td>792</td>\n",
       "      <td>68</td>\n",
       "      <td>74875</td>\n",
       "      <td>110</td>\n",
       "      <td>1600</td>\n",
       "      <td>5</td>\n",
       "      <td>5</td>\n",
       "      <td>85</td>\n",
       "      <td>1070</td>\n",
       "    </tr>\n",
       "    <tr>\n",
       "      <th>978</th>\n",
       "      <td>980</td>\n",
       "      <td>57</td>\n",
       "      <td>45000</td>\n",
       "      <td>110</td>\n",
       "      <td>1600</td>\n",
       "      <td>5</td>\n",
       "      <td>5</td>\n",
       "      <td>69</td>\n",
       "      <td>1050</td>\n",
       "    </tr>\n",
       "    <tr>\n",
       "      <th>...</th>\n",
       "      <td>...</td>\n",
       "      <td>...</td>\n",
       "      <td>...</td>\n",
       "      <td>...</td>\n",
       "      <td>...</td>\n",
       "      <td>...</td>\n",
       "      <td>...</td>\n",
       "      <td>...</td>\n",
       "      <td>...</td>\n",
       "    </tr>\n",
       "    <tr>\n",
       "      <th>590</th>\n",
       "      <td>591</td>\n",
       "      <td>53</td>\n",
       "      <td>26624</td>\n",
       "      <td>97</td>\n",
       "      <td>1400</td>\n",
       "      <td>5</td>\n",
       "      <td>5</td>\n",
       "      <td>85</td>\n",
       "      <td>1060</td>\n",
       "    </tr>\n",
       "    <tr>\n",
       "      <th>1320</th>\n",
       "      <td>1322</td>\n",
       "      <td>79</td>\n",
       "      <td>66855</td>\n",
       "      <td>110</td>\n",
       "      <td>1600</td>\n",
       "      <td>5</td>\n",
       "      <td>5</td>\n",
       "      <td>85</td>\n",
       "      <td>1075</td>\n",
       "    </tr>\n",
       "    <tr>\n",
       "      <th>507</th>\n",
       "      <td>508</td>\n",
       "      <td>50</td>\n",
       "      <td>54465</td>\n",
       "      <td>110</td>\n",
       "      <td>1600</td>\n",
       "      <td>5</td>\n",
       "      <td>5</td>\n",
       "      <td>85</td>\n",
       "      <td>1075</td>\n",
       "    </tr>\n",
       "    <tr>\n",
       "      <th>931</th>\n",
       "      <td>932</td>\n",
       "      <td>60</td>\n",
       "      <td>55085</td>\n",
       "      <td>107</td>\n",
       "      <td>1600</td>\n",
       "      <td>5</td>\n",
       "      <td>5</td>\n",
       "      <td>85</td>\n",
       "      <td>1105</td>\n",
       "    </tr>\n",
       "    <tr>\n",
       "      <th>657</th>\n",
       "      <td>658</td>\n",
       "      <td>68</td>\n",
       "      <td>112116</td>\n",
       "      <td>110</td>\n",
       "      <td>1600</td>\n",
       "      <td>5</td>\n",
       "      <td>5</td>\n",
       "      <td>85</td>\n",
       "      <td>1070</td>\n",
       "    </tr>\n",
       "  </tbody>\n",
       "</table>\n",
       "<p>359 rows × 9 columns</p>\n",
       "</div>"
      ],
      "text/plain": [
       "      index  age      km   hp    cc  doors  gears  qtrly_tax  weight\n",
       "573     574   49   34890   97  1400      3      5         69    1025\n",
       "1377   1379   74   56132  110  1600      4      5         69    1035\n",
       "322     323   44   36066  110  1600      3      5         69    1040\n",
       "791     792   68   74875  110  1600      5      5         85    1070\n",
       "978     980   57   45000  110  1600      5      5         69    1050\n",
       "...     ...  ...     ...  ...   ...    ...    ...        ...     ...\n",
       "590     591   53   26624   97  1400      5      5         85    1060\n",
       "1320   1322   79   66855  110  1600      5      5         85    1075\n",
       "507     508   50   54465  110  1600      5      5         85    1075\n",
       "931     932   60   55085  107  1600      5      5         85    1105\n",
       "657     658   68  112116  110  1600      5      5         85    1070\n",
       "\n",
       "[359 rows x 9 columns]"
      ]
     },
     "execution_count": 9,
     "metadata": {},
     "output_type": "execute_result"
    }
   ],
   "source": [
    "X_test"
   ]
  },
  {
   "cell_type": "code",
   "execution_count": 10,
   "metadata": {},
   "outputs": [
    {
     "data": {
      "text/plain": [
       "573      9980\n",
       "1377     7750\n",
       "322     11250\n",
       "791      7750\n",
       "978     10750\n",
       "        ...  \n",
       "590     10950\n",
       "1320     8950\n",
       "507     10500\n",
       "931     10350\n",
       "657      9950\n",
       "Name: price, Length: 359, dtype: int64"
      ]
     },
     "execution_count": 10,
     "metadata": {},
     "output_type": "execute_result"
    }
   ],
   "source": [
    "y_test"
   ]
  },
  {
   "cell_type": "markdown",
   "metadata": {},
   "source": [
    "## Building the Model"
   ]
  },
  {
   "cell_type": "code",
   "execution_count": 11,
   "metadata": {},
   "outputs": [],
   "source": [
    "from sklearn.linear_model import LinearRegression"
   ]
  },
  {
   "cell_type": "code",
   "execution_count": 12,
   "metadata": {},
   "outputs": [],
   "source": [
    "model = LinearRegression()"
   ]
  },
  {
   "cell_type": "code",
   "execution_count": 13,
   "metadata": {},
   "outputs": [
    {
     "data": {
      "text/plain": [
       "LinearRegression()"
      ]
     },
     "execution_count": 13,
     "metadata": {},
     "output_type": "execute_result"
    }
   ],
   "source": [
    "model.fit(X_train,y_train)"
   ]
  },
  {
   "cell_type": "markdown",
   "metadata": {},
   "source": [
    "### Calculate Performance on Test Set\n",
    "\n",
    "We want to fairly evaluate our model, so we get performance metrics on the test set (data the model has never seen before)."
   ]
  },
  {
   "cell_type": "code",
   "execution_count": 14,
   "metadata": {
    "scrolled": true
   },
   "outputs": [
    {
     "data": {
      "text/plain": [
       "array([ 11144.14117756,   7992.56237358,  11841.29189676,   9255.82906276,\n",
       "        10397.71606242,   7797.21433638,  17533.39931259,   7687.02378343,\n",
       "         8683.64667687,  12204.49407896,  13157.74168843,  11568.64678246,\n",
       "        11323.99637135,  16874.1701439 ,   8989.30430044,  15203.98145915,\n",
       "         7194.81414663,   7787.43842429,  16958.75543113,   9757.03292604,\n",
       "        18818.50983956,   8339.1548422 ,   8619.81947907,   7376.83160322,\n",
       "         8782.51323149,   9461.88426635,   9524.03723017,  10019.71791761,\n",
       "        14978.32584246,  13060.45235905,  14108.48427101,  13102.54275762,\n",
       "        13926.27595613,  10727.81568346,   9675.76012962,   9213.94234905,\n",
       "        10178.2389495 ,  10095.29015517,   8568.38820634,   8964.352191  ,\n",
       "        10770.422968  ,  16013.8501381 ,   7744.49867048,   7331.66330094,\n",
       "         9850.40649529,   9018.57030472,  10764.10417291,  10453.96392241,\n",
       "        12661.05600478,   7753.61784785,  11591.79639582,  14082.67655125,\n",
       "         9842.0354941 ,   7968.1231685 ,  12827.73453928,  15175.06578444,\n",
       "        12867.28806998,   9332.47614097,  12911.25325829,  20451.42360001,\n",
       "         6787.38698668,   8248.99212794,  10333.73354517,   6473.53820284,\n",
       "         9678.05878957,  22196.56238682,  13430.4277385 ,  14125.00159559,\n",
       "        11727.23818316,   5337.17620889,   9349.3319208 ,  12371.57915135,\n",
       "        10270.14019956,  11535.19491415,   7689.32580902,   8264.871668  ,\n",
       "        10132.92026468,  11243.08813804,  10093.574315  ,   7867.27076051,\n",
       "         9738.03375815,   7492.36184697,   8110.18178829,  10507.67791535,\n",
       "         8942.40673624,  10121.63789794,   9156.22874538,  10757.61960503,\n",
       "        19065.33665783,   9603.26911412,  13696.34366509,   7175.76781394,\n",
       "         7333.48243033,  11729.78845771,   8480.03928089,  12677.4106889 ,\n",
       "         8470.81068782,   6676.06606402,  11044.16384555,   6797.96700353,\n",
       "         9183.28552706,  21178.28055525,  16845.99742664,  13671.82490175,\n",
       "         7446.99177382,  12936.20918422,   6794.89374297,  10013.08208298,\n",
       "         9588.56339737,   8403.02751468,   8611.16699524,   9347.00887631,\n",
       "         9860.86271005,  12836.18684534,  12294.07731972,  10039.83013502,\n",
       "         8830.74911663,   7935.6811313 ,  10308.16023939,  11211.60156272,\n",
       "         9847.6558674 ,  17240.35788524,  11283.35683383,  11003.23185048,\n",
       "        11657.59760906,   9277.4894502 ,  16578.75437242,  12799.52411593,\n",
       "         9161.38441959,  13776.0179846 ,  10198.08457994,   8469.7535276 ,\n",
       "         8345.47939265,  13212.22518117,   7409.66407961,  11839.77745207,\n",
       "         9098.80937193,  12662.03825442,   9912.12786993,   6642.43734734,\n",
       "        12138.40205708,  10959.19151788,   8470.54075662,  11664.93555747,\n",
       "        10552.11531373,   8370.25587903,  18382.14048908,   9207.48515693,\n",
       "         9688.74986891,   7921.87710898,   9639.38269047,  10496.05539537,\n",
       "         7654.20903231,   7574.09912433,   8918.92928196,   7097.91390882,\n",
       "         9907.78701796,  10363.7898093 ,   9256.09001599,  11496.67833333,\n",
       "         8378.65031907,  17218.67186317,  19096.32852188,   7584.95471781,\n",
       "         9236.93733546,  16372.56951448,   5467.67839264,  18709.74048156,\n",
       "        11073.77381107,  13787.3429342 ,  10935.01485919,  17958.09749435,\n",
       "        12465.29457127,   9123.88326391,  13205.75681743,  19581.99877412,\n",
       "        10659.51236877,   6869.79847989,  11199.48293171,  10646.89639427,\n",
       "         8890.89124385,   7294.85188024,  10876.85254809,   7839.88127439,\n",
       "        12642.94896341,   8828.03965849,  11112.99644334,   5404.68310234,\n",
       "         7022.32020911,  11336.07994502,  12631.34669145,   8696.17190313,\n",
       "        10527.41652083,  13672.74131258,  10917.01386309,  17160.58792852,\n",
       "        18015.03213796,   8686.97021177,  10052.25926062,   9306.55414569,\n",
       "        20436.23259184,   9321.53748566,  11177.37495581,   8041.16185425,\n",
       "        10829.49860603,  10531.12574154,  10767.01641658,   7095.23407485,\n",
       "         9636.13997622,  11866.38363337,   7143.47257761,  21328.56108725,\n",
       "         8673.83093207,   7970.73431085,   8606.0707992 ,  15533.51061972,\n",
       "        18240.21024565,  19412.75018386,   8803.36221217,   9187.2150786 ,\n",
       "        17592.50672198,   6414.49556201,   7462.26362573,  10082.25955973,\n",
       "        16346.59142899,  11093.83054324,  20924.54744368,  13026.03389535,\n",
       "        12892.19835933,  11576.09764648,  13333.7425501 ,  15337.68444648,\n",
       "        18420.98585541,   8294.32428909,   9869.52669187,   9432.16579884,\n",
       "         7736.14143919,   9470.5998912 ,   8191.62733103,  12642.77776905,\n",
       "         7607.11264613,   9802.59455874,  12596.90764247,   7735.27294918,\n",
       "        20753.69852569,  10820.23123008,  17484.33604401,  10769.23885292,\n",
       "         9264.45093453,  12848.62528453,   8100.33933604,  13964.83888639,\n",
       "         9182.47013682,  10264.92397164,   8004.87212094,  13272.60174663,\n",
       "        10825.5329614 ,   8211.54511386,   9224.81964263, -36356.39740894,\n",
       "        13718.20921967,   9556.20898974,  11588.74942472,  13215.61578471,\n",
       "         9225.43745325,  10035.5322883 ,   6805.09743948,  10946.01304194,\n",
       "         9089.16327041,  14229.01885699,   8134.10238077,  10359.9996331 ,\n",
       "         9697.82653077,  10310.51540969,  13998.4943587 ,   7423.44349983,\n",
       "         8635.95029782,   8600.90287857,  10452.24174554,  12667.30877189,\n",
       "         8097.83160443,   7872.32715205,  20399.80629174,   9305.25760541,\n",
       "         7398.79710492,   7022.79168999,   7115.83578251,   7577.99710917,\n",
       "         9011.6718783 ,   9806.17946438,   8379.90696968,  11165.70986878,\n",
       "         8074.12796704,  13204.03085265,  13423.28176689,  16105.52087781,\n",
       "        14506.86199841,  11661.74402916,   8566.11635225,  11933.99192754,\n",
       "         8054.31641483,   8849.55068386,  11999.66831919,   6994.3813748 ,\n",
       "        15801.47733229,  16001.68256937,   9431.61717604,   9071.68427555,\n",
       "        12107.74938993,   9763.17352408,  12500.25652846,   9453.56392216,\n",
       "         9908.61981739,   8065.10093717,  11592.34019308,  10134.43284677,\n",
       "         8913.9696828 ,  11511.11412419,  12608.4611572 ,   9278.71829366,\n",
       "         9884.09303127,   8198.31581592,   9730.66125775,   9458.39631603,\n",
       "         8564.37037934,  10683.86899349,   7154.48846874,   7988.29025493,\n",
       "         7609.3597688 ,  11896.45108016,   9744.50666958,  12039.09223959,\n",
       "         6783.10335524,  10570.10712071,   8001.97663461,   7550.02779321,\n",
       "        10127.72949451,  10280.75377111,  10878.99975155,  11366.01497513,\n",
       "        18711.2705705 ,  17280.28447779,  11073.84460799,  17687.16731526,\n",
       "        16693.0322927 ,   9754.77616024,  13228.09283837,   8298.52199543,\n",
       "         7740.30204305,  11840.79325846,   8103.66565345,  12320.2269428 ,\n",
       "        12960.5167264 ,   8592.19062188,  11703.75755411,   8389.91122492,\n",
       "        11786.04920609,  11518.12366873,   8619.23200655])"
      ]
     },
     "execution_count": 14,
     "metadata": {},
     "output_type": "execute_result"
    }
   ],
   "source": [
    "test_predictions = model.predict(X_test)\n",
    "test_predictions"
   ]
  },
  {
   "cell_type": "code",
   "execution_count": 15,
   "metadata": {},
   "outputs": [],
   "source": [
    "from sklearn.metrics import mean_absolute_error,mean_squared_error"
   ]
  },
  {
   "cell_type": "code",
   "execution_count": 16,
   "metadata": {},
   "outputs": [],
   "source": [
    "MAE = mean_absolute_error(y_test,test_predictions)\n",
    "MSE = mean_squared_error(y_test,test_predictions)\n",
    "RMSE = np.sqrt(MSE)"
   ]
  },
  {
   "cell_type": "code",
   "execution_count": 17,
   "metadata": {},
   "outputs": [
    {
     "data": {
      "text/html": [
       "<div>\n",
       "<style scoped>\n",
       "    .dataframe tbody tr th:only-of-type {\n",
       "        vertical-align: middle;\n",
       "    }\n",
       "\n",
       "    .dataframe tbody tr th {\n",
       "        vertical-align: top;\n",
       "    }\n",
       "\n",
       "    .dataframe thead th {\n",
       "        text-align: right;\n",
       "    }\n",
       "</style>\n",
       "<table border=\"1\" class=\"dataframe\">\n",
       "  <thead>\n",
       "    <tr style=\"text-align: right;\">\n",
       "      <th></th>\n",
       "      <th>Errors</th>\n",
       "      <th>Value</th>\n",
       "    </tr>\n",
       "  </thead>\n",
       "  <tbody>\n",
       "    <tr>\n",
       "      <th>0</th>\n",
       "      <td>Mean Absolute Error (MAE)</td>\n",
       "      <td>1.033527e+03</td>\n",
       "    </tr>\n",
       "    <tr>\n",
       "      <th>1</th>\n",
       "      <td>Mean Squared Error (MSE)</td>\n",
       "      <td>9.854925e+06</td>\n",
       "    </tr>\n",
       "    <tr>\n",
       "      <th>2</th>\n",
       "      <td>Root Mean Squared Error (RMSE)</td>\n",
       "      <td>3.139255e+03</td>\n",
       "    </tr>\n",
       "  </tbody>\n",
       "</table>\n",
       "</div>"
      ],
      "text/plain": [
       "                           Errors         Value\n",
       "0       Mean Absolute Error (MAE)  1.033527e+03\n",
       "1        Mean Squared Error (MSE)  9.854925e+06\n",
       "2  Root Mean Squared Error (RMSE)  3.139255e+03"
      ]
     },
     "execution_count": 17,
     "metadata": {},
     "output_type": "execute_result"
    }
   ],
   "source": [
    "d1 = {'Errors':['Mean Absolute Error (MAE)','Mean Squared Error (MSE)','Root Mean Squared Error (RMSE)'],'Value':[MAE,MSE,RMSE]}\n",
    "errors_df = pd.DataFrame(d1)  \n",
    "errors_df"
   ]
  },
  {
   "cell_type": "markdown",
   "metadata": {},
   "source": [
    "Such low values of error points at a good model."
   ]
  },
  {
   "cell_type": "markdown",
   "metadata": {},
   "source": [
    "-----------\n",
    "\n",
    "## Retraining Model on Full Data"
   ]
  },
  {
   "cell_type": "code",
   "execution_count": 18,
   "metadata": {},
   "outputs": [],
   "source": [
    "final_model = LinearRegression()"
   ]
  },
  {
   "cell_type": "code",
   "execution_count": 19,
   "metadata": {},
   "outputs": [
    {
     "data": {
      "text/plain": [
       "LinearRegression()"
      ]
     },
     "execution_count": 19,
     "metadata": {},
     "output_type": "execute_result"
    }
   ],
   "source": [
    "final_model.fit(X,y)"
   ]
  },
  {
   "cell_type": "markdown",
   "metadata": {},
   "source": [
    "It may not really make sense to recalulate RMSE metrics here, since the model has already seen all the data, its not a fair judgement of performance to calculate RMSE on data its already seen, thus the purpose of the previous examination of test performance."
   ]
  },
  {
   "cell_type": "markdown",
   "metadata": {},
   "source": [
    "### Final Model Fit"
   ]
  },
  {
   "cell_type": "code",
   "execution_count": 20,
   "metadata": {},
   "outputs": [],
   "source": [
    "y_hat = final_model.predict(X)"
   ]
  },
  {
   "cell_type": "markdown",
   "metadata": {},
   "source": [
    "#### Residuals"
   ]
  },
  {
   "cell_type": "code",
   "execution_count": 21,
   "metadata": {},
   "outputs": [],
   "source": [
    "residuals = y_hat - y"
   ]
  },
  {
   "cell_type": "code",
   "execution_count": 22,
   "metadata": {},
   "outputs": [
    {
     "data": {
      "text/plain": [
       "<matplotlib.lines.Line2D at 0x1a7143b42b0>"
      ]
     },
     "execution_count": 22,
     "metadata": {},
     "output_type": "execute_result"
    },
    {
     "data": {
      "image/png": "[encoded data removed]",
      "text/plain": [
       "<Figure size 432x288 with 1 Axes>"
      ]
     },
     "metadata": {
      "needs_background": "light"
     },
     "output_type": "display_data"
    }
   ],
   "source": [
    "sns.scatterplot(x=y,y=residuals)\n",
    "plt.axhline(y=0, color='r', linestyle='--')"
   ]
  },
  {
   "cell_type": "markdown",
   "metadata": {},
   "source": [
    "### Final Model - Coefficients"
   ]
  },
  {
   "cell_type": "code",
   "execution_count": 23,
   "metadata": {},
   "outputs": [
    {
     "data": {
      "text/plain": [
       "array([ 4.71476072e-01, -1.27354724e+02, -1.97632407e-02,  2.76437104e+01,\n",
       "       -2.17304642e-01, -5.98644774e+01,  6.04795176e+02, -4.33809026e-01,\n",
       "        2.30364979e+01])"
      ]
     },
     "execution_count": 23,
     "metadata": {},
     "output_type": "execute_result"
    }
   ],
   "source": [
    "final_model.coef_"
   ]
  },
  {
   "cell_type": "code",
   "execution_count": 24,
   "metadata": {},
   "outputs": [
    {
     "data": {
      "text/html": [
       "<div>\n",
       "<style scoped>\n",
       "    .dataframe tbody tr th:only-of-type {\n",
       "        vertical-align: middle;\n",
       "    }\n",
       "\n",
       "    .dataframe tbody tr th {\n",
       "        vertical-align: top;\n",
       "    }\n",
       "\n",
       "    .dataframe thead th {\n",
       "        text-align: right;\n",
       "    }\n",
       "</style>\n",
       "<table border=\"1\" class=\"dataframe\">\n",
       "  <thead>\n",
       "    <tr style=\"text-align: right;\">\n",
       "      <th></th>\n",
       "      <th>Coefficient</th>\n",
       "    </tr>\n",
       "  </thead>\n",
       "  <tbody>\n",
       "    <tr>\n",
       "      <th>index</th>\n",
       "      <td>0.471476</td>\n",
       "    </tr>\n",
       "    <tr>\n",
       "      <th>age</th>\n",
       "      <td>-127.354724</td>\n",
       "    </tr>\n",
       "    <tr>\n",
       "      <th>km</th>\n",
       "      <td>-0.019763</td>\n",
       "    </tr>\n",
       "    <tr>\n",
       "      <th>hp</th>\n",
       "      <td>27.643710</td>\n",
       "    </tr>\n",
       "    <tr>\n",
       "      <th>cc</th>\n",
       "      <td>-0.217305</td>\n",
       "    </tr>\n",
       "    <tr>\n",
       "      <th>doors</th>\n",
       "      <td>-59.864477</td>\n",
       "    </tr>\n",
       "    <tr>\n",
       "      <th>gears</th>\n",
       "      <td>604.795176</td>\n",
       "    </tr>\n",
       "    <tr>\n",
       "      <th>qtrly_tax</th>\n",
       "      <td>-0.433809</td>\n",
       "    </tr>\n",
       "    <tr>\n",
       "      <th>weight</th>\n",
       "      <td>23.036498</td>\n",
       "    </tr>\n",
       "  </tbody>\n",
       "</table>\n",
       "</div>"
      ],
      "text/plain": [
       "           Coefficient\n",
       "index         0.471476\n",
       "age        -127.354724\n",
       "km           -0.019763\n",
       "hp           27.643710\n",
       "cc           -0.217305\n",
       "doors       -59.864477\n",
       "gears       604.795176\n",
       "qtrly_tax    -0.433809\n",
       "weight       23.036498"
      ]
     },
     "execution_count": 24,
     "metadata": {},
     "output_type": "execute_result"
    }
   ],
   "source": [
    "coeff_df = pd.DataFrame(final_model.coef_,X.columns,columns=['Coefficient'])\n",
    "coeff_df"
   ]
  },
  {
   "cell_type": "markdown",
   "metadata": {},
   "source": [
    "Coefficient of a variable display how much change is manifested in the Price with one unit change in the respective variable, given that all other features are fixed."
   ]
  }
 ],
 "metadata": {
  "kernelspec": {
   "display_name": "Python 3",
   "language": "python",
   "name": "python3"
  },
  "language_info": {
   "codemirror_mode": {
    "name": "ipython",
    "version": 3
   },
   "file_extension": ".py",
   "mimetype": "text/x-python",
   "name": "python",
   "nbconvert_exporter": "python",
   "pygments_lexer": "ipython3",
   "version": "3.8.5"
  }
 },
 "nbformat": 4,
 "nbformat_minor": 4
}
